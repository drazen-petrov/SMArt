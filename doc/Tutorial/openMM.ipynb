{
 "cells": [
  {
   "cell_type": "markdown",
   "id": "83d4ecec-39c5-4793-ad88-305b4b766432",
   "metadata": {},
   "source": [
    "# porting GROMOS topologies to openMM "
   ]
  },
  {
   "cell_type": "markdown",
   "id": "d9751c94-96ef-472c-a2e4-985880a2bdbf",
   "metadata": {},
   "source": [
    "## importing `openMM_Factory`"
   ]
  },
  {
   "cell_type": "code",
   "execution_count": 1,
   "id": "23a06689-f8d8-4b62-a1bd-b493c39a77bf",
   "metadata": {},
   "outputs": [],
   "source": [
    "import os\n",
    "\n",
    "\"\"\"\n",
    "import sys\n",
    "SMArt_fd = os.path.abspath(os.getcwd())\n",
    "for _ in range(2):\n",
    "    SMArt_fd = os.path.split(SMArt_fd)[0]\n",
    "sys.path.insert(0, SMArt_fd)\n",
    "#\"\"\"\n",
    "# if SMArt not in the path, uncomment the code above\n",
    "\n",
    "import SMArt\n",
    "from SMArt.md.openMM_Factory import openMM_Factory, mm\n",
    "from SMArt.md import parse_top, parse_cnf, parse_imd\n"
   ]
  },
  {
   "cell_type": "code",
   "execution_count": 2,
   "id": "0fcf052c-c0c9-4cce-ac50-bca1710aeefe",
   "metadata": {},
   "outputs": [],
   "source": [
    "import numpy as np\n",
    "\n",
    "from openmm import *\n",
    "from openmm.app import *\n",
    "from openmm.app.internal.unitcell import reducePeriodicBoxVectors\n",
    "from openmm.unit import *\n"
   ]
  },
  {
   "cell_type": "markdown",
   "id": "2968e964-12f1-4ee6-b287-39f8d500e350",
   "metadata": {},
   "source": [
    "## parse GROMOS files"
   ]
  },
  {
   "cell_type": "code",
   "execution_count": 3,
   "id": "817a3ddd-110a-4b01-9e57-7eccb241c1d7",
   "metadata": {},
   "outputs": [],
   "source": [
    "data_fd = os.path.abspath(os.path.join(os.path.split(SMArt.__file__)[0], '..', 'doc', 'some_data'))\n",
    "data_fd = os.path.join(data_fd, 'gromos', 'GLY_LYSH_KMC')\n",
    "\n",
    "top = parse_top(os.path.join(data_fd, 'GLY_LYSH_KMC.top'))\n",
    "cnf = parse_cnf(os.path.join(data_fd, 'eq_GLY_LYSH_KMC.cnf'))\n",
    "imd = parse_imd(os.path.join(data_fd, 'md.imd'))\n"
   ]
  },
  {
   "cell_type": "markdown",
   "id": "d4a10f0a-7fa4-468d-a61e-bbaa6d721b9e",
   "metadata": {},
   "source": [
    "## generate openMM_Factory instance"
   ]
  },
  {
   "cell_type": "code",
   "execution_count": 4,
   "id": "a79a4dd6-caa2-4d6a-ab1f-19b26e564181",
   "metadata": {},
   "outputs": [
    {
     "name": "stdout",
     "output_type": "stream",
     "text": [
      "setting eps1 = 1.\n"
     ]
    }
   ],
   "source": [
    "openMM_sys = openMM_Factory(top=top, MD_params=imd) # initialize"
   ]
  },
  {
   "cell_type": "code",
   "execution_count": 5,
   "id": "ad48f25f-a3bb-44c6-9d80-c036faa0b7aa",
   "metadata": {},
   "outputs": [
    {
     "name": "stdout",
     "output_type": "stream",
     "text": [
      "setting eps = 61.0\n"
     ]
    }
   ],
   "source": [
    "## use solute only or add water molecules\n",
    "flag_water = True\n",
    "if flag_water:\n",
    "    N_water = int((len(cnf.atoms) - len(top.atoms)) / 3)\n",
    "else:\n",
    "    N_water=0\n",
    "\n",
    "## use native openMM electrostatic calculation or custom made one\n",
    "flag_openMM_native_charges = False\n",
    "if not flag_openMM_native_charges:\n",
    "    # GROMOS custom energy\n",
    "    openMM_sys.make_predefined_openmm_system(native_charges=False, N_water=N_water)\n",
    "else:\n",
    "    # native openMM charges + custom GROMOM energy for the rest\n",
    "    openMM_sys.make_predefined_openmm_system(native_charges=True, N_water=N_water)\n"
   ]
  },
  {
   "cell_type": "code",
   "execution_count": 6,
   "id": "6cc90e57-e458-42e0-a6ed-85a0de169d91",
   "metadata": {},
   "outputs": [],
   "source": [
    "# cells above generate openMM system object\n",
    "# stored in `system` attribute of the `openMM_Factory` instance\n",
    "mm_sys = openMM_sys.system "
   ]
  },
  {
   "cell_type": "markdown",
   "id": "37e506dc-ab26-4899-98be-92724ab43ac8",
   "metadata": {},
   "source": [
    "## generate openMM Simulation object"
   ]
  },
  {
   "cell_type": "code",
   "execution_count": 7,
   "id": "326f8be9-4610-44d9-97b9-bcfda864ad9c",
   "metadata": {},
   "outputs": [],
   "source": [
    "# generate openMM topology object (it could be made from a pdb file as well)\n",
    "mm_top = openMM_sys.make_openmm_top()\n",
    "# add the box information\n",
    "mm_sys.setDefaultPeriodicBoxVectors(*reducePeriodicBoxVectors(np.diag(cnf.box.abc)))\n",
    "mm_top.setPeriodicBoxVectors(reducePeriodicBoxVectors(np.diag(cnf.box.abc)))\n",
    "\n",
    "# create integrator and simulation objects\n",
    "integrator = NoseHooverIntegrator(300*kelvin, 0.1/picosecond, 0.002*picoseconds)\n",
    "simulation = Simulation(mm_top, mm_sys, integrator)\n",
    "\n",
    "# add coordinates and the box information to the simulation object\n",
    "pos = [mm.vec3.Vec3(*at.coord) for at in cnf.atoms[:len(openMM_sys.top.atoms)]]\n",
    "pos = mm.unit.quantity.Quantity(pos, mm.unit.nanometers)\n",
    "simulation.context.setPositions(pos)\n",
    "simulation.context.setPeriodicBoxVectors(*reducePeriodicBoxVectors(np.diag(cnf.box.abc)))\n"
   ]
  },
  {
   "cell_type": "markdown",
   "id": "945f472d-f981-4bba-a261-4aee8541f78c",
   "metadata": {},
   "source": [
    "## use the `simulation` object\n",
    "\n",
    "e.g. calculate energies "
   ]
  },
  {
   "cell_type": "code",
   "execution_count": 8,
   "id": "38853b7b-6b48-4138-8c27-d1ff6a30b18f",
   "metadata": {},
   "outputs": [
    {
     "name": "stdout",
     "output_type": "stream",
     "text": [
      "FG_BONDS                            0     0.0 kJ/mol\n",
      "FG_ANGLES                           1     626.60546875 kJ/mol\n",
      "FG_IMPROPERS                        2     15.926919937133789 kJ/mol\n",
      "FG_DIHEDRALS                        3     48.74125671386719 kJ/mol\n",
      "FG_NB_NATIVE_GROUP                  4     0.0 kJ/mol\n",
      "FG_NB_LJ_coul_RF_RFC_CUSTOM         5     -84435.921875 kJ/mol\n",
      "FG_NB_LJ_CUSTOM_excl_14             6     -8.948772430419922 kJ/mol\n",
      "FG_NB_coul_RF_RFC_CUSTOM_14         7     406.5616760253906 kJ/mol\n",
      "FG_NB_RF_RFC_CUSTOM_excl            8     150757.171875 kJ/mol\n",
      "FG_NB_RFC_CUSTOM_self               9     -151014.40625 kJ/mol\n",
      "\n",
      "full\n",
      "-83604.25 kJ/mol\n"
     ]
    }
   ],
   "source": [
    "for FG_name, i in openMM_sys.FG_map.items():\n",
    "    st = simulation.context.getState(getPositions=True, getEnergy=True, groups={i})\n",
    "    print('{:<35} {:<5}'.format(FG_name, i), st.getPotentialEnergy())\n",
    "\n",
    "print('\\nfull')\n",
    "st = simulation.context.getState(getPositions=True, getEnergy=True)\n",
    "print(st.getPotentialEnergy())\n"
   ]
  },
  {
   "cell_type": "code",
   "execution_count": null,
   "id": "5d1e3ced-c615-41a8-b6ab-56e372fcc272",
   "metadata": {},
   "outputs": [],
   "source": []
  }
 ],
 "metadata": {
  "kernelspec": {
   "display_name": "Python [conda env:mms] *",
   "language": "python",
   "name": "conda-env-mms-py"
  },
  "language_info": {
   "codemirror_mode": {
    "name": "ipython",
    "version": 3
   },
   "file_extension": ".py",
   "mimetype": "text/x-python",
   "name": "python",
   "nbconvert_exporter": "python",
   "pygments_lexer": "ipython3",
   "version": "3.7.13"
  }
 },
 "nbformat": 4,
 "nbformat_minor": 5
}
