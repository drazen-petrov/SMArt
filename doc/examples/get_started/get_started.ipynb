{
 "cells": [
  {
   "cell_type": "markdown",
   "metadata": {},
   "source": [
    "# SMArt\n",
    "## Welcome to Simulation & Modelling Art\n",
    "### importing"
   ]
  },
  {
   "cell_type": "code",
   "execution_count": 1,
   "metadata": {},
   "outputs": [
    {
     "name": "stdout",
     "output_type": "stream",
     "text": [
      "Help on package SMArt:\n",
      "\n",
      "NAME\n",
      "    SMArt - SimulationsModellingArt\n",
      "\n",
      "PACKAGE CONTENTS\n",
      "    __local_config\n",
      "    __local_config_data\n",
      "    alchemy (package)\n",
      "    geometry\n",
      "    graph (package)\n",
      "    incl\n",
      "    md (package)\n",
      "    mp_fnc\n",
      "\n",
      "FILE\n",
      "    c:\\users\\draze\\poso_local\\coding\\clean_smart\\smart\\smart\\__init__.py\n",
      "\n",
      "\n"
     ]
    },
    {
     "name": "stderr",
     "output_type": "stream",
     "text": [
      "C:\\Users\\draze\\poso_local\\coding\\clean_smart\\smart\\SMArt\\__local_config.py:22: WARN: gmx not found\n",
      "  do_warn('gmx not found')\n",
      "C:\\Users\\draze\\poso_local\\coding\\clean_smart\\smart\\SMArt\\__local_config.py:34: WARN: gpp not found\n",
      "  do_warn('gpp not found')\n",
      "C:\\Users\\draze\\poso_local\\coding\\clean_smart\\smart\\SMArt\\__local_config.py:42: WARN: gxx not found\n",
      "  do_warn('gxx not found')\n",
      "C:\\Users\\draze\\poso_local\\coding\\clean_smart\\smart\\SMArt\\__local_config.py:50: WARN: pdb2pqr not found\n",
      "  do_warn('pdb2pqr not found')\n"
     ]
    }
   ],
   "source": [
    "import sys\n",
    "import os\n",
    "\n",
    "smart_fd = os.path.abspath(os.getcwd())\n",
    "for _ in range(3):\n",
    "    smart_fd = os.path.split(smart_fd)[0]\n",
    "\n",
    "\n",
    "sys.path.insert(0, smart_fd)\n",
    "\n",
    "import SMArt\n",
    "help(SMArt)"
   ]
  },
  {
   "cell_type": "code",
   "execution_count": 2,
   "metadata": {},
   "outputs": [],
   "source": [
    "from SMArt.md import parse_top, parse_ff\n",
    "from SMArt.md import FF, BBdb, Topology, Configuration, MolSystem\n",
    "\n",
    "from SMArt.md.gromos.io.incl import GromosFile, GromosString\n",
    "from SMArt.md.gromacs.io.incl import GromacsFile, GromacsString\n"
   ]
  },
  {
   "cell_type": "markdown",
   "metadata": {},
   "source": [
    "## GROMOS\n",
    "### parsing / writing"
   ]
  },
  {
   "cell_type": "code",
   "execution_count": 3,
   "metadata": {},
   "outputs": [
    {
     "name": "stderr",
     "output_type": "stream",
     "text": [
      "C:\\Users\\draze\\poso_local\\coding\\clean_smart\\smart\\SMArt\\md\\gromos\\io\\incl.py:153: WARN: unknown block read in as text: SPECATOMLJPAIR\n",
      "  do_warn('unknown block read in as text: ' + bl_name)\n"
     ]
    }
   ],
   "source": [
    "import os\n",
    "\n",
    "out_fd = os.path.abspath(os.getcwd())\n",
    "out_fd = os.path.join(out_fd, 'out_data')\n",
    "if not os.path.isdir(out_fd):\n",
    "    os.mkdir(out_fd)\n",
    "\n",
    "\n",
    "fd_gromos = os.path.join(smart_fd, 'doc', 'examples', 'some_data', 'gromos')\n",
    "ifp_file = os.path.join(fd_gromos, '54a8.ifp')\n",
    "ff_gr = parse_ff(ifp_file)"
   ]
  },
  {
   "cell_type": "code",
   "execution_count": 4,
   "metadata": {},
   "outputs": [
    {
     "data": {
      "text/plain": [
       "['sys_title',\n",
       " 'm_type',\n",
       " 'gr_bonds',\n",
       " 'gr_angles',\n",
       " 'gr_impropers',\n",
       " 'gr_dihedrals',\n",
       " 'a_type',\n",
       " 'vdw']"
      ]
     },
     "execution_count": 4,
     "metadata": {},
     "output_type": "execute_result"
    }
   ],
   "source": [
    "# data of any object is stored in _containers\n",
    "ff_gr._containers"
   ]
  },
  {
   "cell_type": "code",
   "execution_count": 5,
   "metadata": {},
   "outputs": [
    {
     "data": {
      "text/plain": [
       "OrderedDict([('1', 1 1.008),\n",
       "             ('3', 3 13.019),\n",
       "             ('4', 4 14.027),\n",
       "             ('5', 5 15.035),\n",
       "             ('6', 6 16.043),\n",
       "             ('12', 12 12.011),\n",
       "             ('14', 14 14.0067),\n",
       "             ('16', 16 15.9994),\n",
       "             ('19', 19 18.9984),\n",
       "             ('23', 23 22.9898),\n",
       "             ('24', 24 24.305),\n",
       "             ('28', 28 28.08),\n",
       "             ('31', 31 30.9738),\n",
       "             ('32', 32 32.06),\n",
       "             ('35', 35 35.453),\n",
       "             ('39', 39 39.948),\n",
       "             ('40', 40 40.08),\n",
       "             ('56', 56 55.847),\n",
       "             ('63', 63 63.546),\n",
       "             ('65', 65 65.37),\n",
       "             ('80', 80 79.904)])"
      ]
     },
     "execution_count": 5,
     "metadata": {},
     "output_type": "execute_result"
    }
   ],
   "source": [
    "ff_gr.m_type"
   ]
  },
  {
   "cell_type": "code",
   "execution_count": 6,
   "metadata": {},
   "outputs": [
    {
     "data": {
      "text/plain": [
       "1 1.008"
      ]
     },
     "execution_count": 6,
     "metadata": {},
     "output_type": "execute_result"
    }
   ],
   "source": [
    "ff_gr.m_type['1'] # mass type"
   ]
  },
  {
   "cell_type": "code",
   "execution_count": 7,
   "metadata": {},
   "outputs": [
    {
     "data": {
      "text/plain": [
       "2 OM"
      ]
     },
     "execution_count": 7,
     "metadata": {},
     "output_type": "execute_result"
    }
   ],
   "source": [
    "ff_gr.a_type['2'] # atom type 2"
   ]
  },
  {
   "cell_type": "code",
   "execution_count": 8,
   "metadata": {},
   "outputs": [
    {
     "data": {
      "text/plain": [
       "BondType (15700000.0, 314000.0, 0.1)"
      ]
     },
     "execution_count": 8,
     "metadata": {},
     "output_type": "execute_result"
    }
   ],
   "source": [
    "ff_gr.gr_bonds['1'] # bond type 2"
   ]
  },
  {
   "cell_type": "code",
   "execution_count": 9,
   "metadata": {},
   "outputs": [
    {
     "name": "stderr",
     "output_type": "stream",
     "text": [
      "C:\\Users\\draze\\poso_local\\coding\\clean_smart\\smart\\SMArt\\md\\gromos\\io\\incl.py:153: WARN: unknown block read in as text: TOPVERSION\n",
      "  do_warn('unknown block read in as text: ' + bl_name)\n",
      "C:\\Users\\draze\\poso_local\\coding\\clean_smart\\smart\\SMArt\\md\\gromos\\io\\incl.py:153: WARN: unknown block read in as text: CROSSDIHEDRALH\n",
      "  do_warn('unknown block read in as text: ' + bl_name)\n",
      "C:\\Users\\draze\\poso_local\\coding\\clean_smart\\smart\\SMArt\\md\\gromos\\io\\incl.py:153: WARN: unknown block read in as text: CROSSDIHEDRAL\n",
      "  do_warn('unknown block read in as text: ' + bl_name)\n",
      "C:\\Users\\draze\\poso_local\\coding\\clean_smart\\smart\\SMArt\\md\\gromos\\io\\incl.py:153: WARN: unknown block read in as text: LJEXCEPTIONS\n",
      "  do_warn('unknown block read in as text: ' + bl_name)\n",
      "C:\\Users\\draze\\poso_local\\coding\\clean_smart\\smart\\SMArt\\md\\gromos\\io\\incl.py:153: WARN: unknown block read in as text: SOLVENTATOM\n",
      "  do_warn('unknown block read in as text: ' + bl_name)\n",
      "C:\\Users\\draze\\poso_local\\coding\\clean_smart\\smart\\SMArt\\md\\gromos\\io\\incl.py:153: WARN: unknown block read in as text: SOLVENTCONSTR\n",
      "  do_warn('unknown block read in as text: ' + bl_name)\n"
     ]
    }
   ],
   "source": [
    "top_file = os.path.join(fd_gromos, 'top.top')\n",
    "top_gr = parse_top(top_file)"
   ]
  },
  {
   "cell_type": "code",
   "execution_count": 10,
   "metadata": {},
   "outputs": [],
   "source": [
    "SMArt.incl.set_print_warnings(False) # if these warnings are anoying you, you can turn them off\n",
    "top_file = os.path.join(fd_gromos, 'test_pept.top')\n",
    "top_gr = parse_top(top_file, format_type = 'gr')"
   ]
  },
  {
   "cell_type": "code",
   "execution_count": 11,
   "metadata": {},
   "outputs": [
    {
     "data": {
      "text/plain": [
       "['a_type', 'gr_bonds', 'gr_angles', 'gr_impropers', 'gr_dihedrals', 'vdw']"
      ]
     },
     "execution_count": 11,
     "metadata": {},
     "output_type": "execute_result"
    }
   ],
   "source": [
    "top_gr.ff._containers"
   ]
  },
  {
   "cell_type": "code",
   "execution_count": 12,
   "metadata": {},
   "outputs": [
    {
     "data": {
      "text/plain": [
       "['sys_title',\n",
       " 'ff',\n",
       " 'residues',\n",
       " 'cg',\n",
       " 'excl_pair',\n",
       " 'bonds',\n",
       " 'angles',\n",
       " 'impropers',\n",
       " 'dihedrals']"
      ]
     },
     "execution_count": 12,
     "metadata": {},
     "output_type": "execute_result"
    }
   ],
   "source": [
    "top_gr._containers"
   ]
  },
  {
   "cell_type": "code",
   "execution_count": 13,
   "metadata": {},
   "outputs": [],
   "source": [
    "# write out FF ifp file\n",
    "out_file = os.path.join(out_fd, 'new_ff.ifp')\n",
    "ff_gr.write_ff(out_file, format_type = 'gr')"
   ]
  },
  {
   "cell_type": "code",
   "execution_count": 14,
   "metadata": {},
   "outputs": [],
   "source": [
    "# write out top file\n",
    "out_file = os.path.join(out_fd, 'new_top.top')\n",
    "top_gr.write_top(out_file)"
   ]
  },
  {
   "cell_type": "code",
   "execution_count": 15,
   "metadata": {},
   "outputs": [
    {
     "data": {
      "text/plain": [
       "175"
      ]
     },
     "execution_count": 15,
     "metadata": {},
     "output_type": "execute_result"
    }
   ],
   "source": [
    "len(top_gr.atoms)"
   ]
  },
  {
   "cell_type": "code",
   "execution_count": 16,
   "metadata": {},
   "outputs": [
    {
     "data": {
      "text/plain": [
       "[1 H1,\n",
       " 2 H2,\n",
       " 3 N,\n",
       " 4 H3,\n",
       " 5 CA,\n",
       " 6 CB,\n",
       " 7 CG,\n",
       " 8 CD,\n",
       " 9 NE,\n",
       " 10 HE,\n",
       " 11 CZ,\n",
       " 12 NH1,\n",
       " 13 HH11,\n",
       " 14 HH12,\n",
       " 15 NH2,\n",
       " 16 HH21,\n",
       " 17 HH22,\n",
       " 18 C,\n",
       " 19 O]"
      ]
     },
     "execution_count": 16,
     "metadata": {},
     "output_type": "execute_result"
    }
   ],
   "source": [
    "top_gr.residues['1'].atoms"
   ]
  },
  {
   "cell_type": "code",
   "execution_count": 17,
   "metadata": {},
   "outputs": [],
   "source": [
    "# reduce topolgy to first 19 atoms\n",
    "red_top = top_gr.reduce_top([str(i) for i in range(1,20)])"
   ]
  },
  {
   "cell_type": "code",
   "execution_count": 18,
   "metadata": {},
   "outputs": [
    {
     "data": {
      "text/plain": [
       "OrderedDict([('1', <SMArt.md.data_st.Residue at 0x27d251bf048>)])"
      ]
     },
     "execution_count": 18,
     "metadata": {},
     "output_type": "execute_result"
    }
   ],
   "source": [
    "red_top.residues"
   ]
  },
  {
   "cell_type": "code",
   "execution_count": 19,
   "metadata": {},
   "outputs": [
    {
     "data": {
      "text/plain": [
       "OrderedDict([('1', 1 H1),\n",
       "             ('2', 2 H2),\n",
       "             ('3', 3 N),\n",
       "             ('4', 4 H3),\n",
       "             ('5', 5 CA),\n",
       "             ('6', 6 CB),\n",
       "             ('7', 7 CG),\n",
       "             ('8', 8 CD),\n",
       "             ('9', 9 NE),\n",
       "             ('10', 10 HE),\n",
       "             ('11', 11 CZ),\n",
       "             ('12', 12 NH1),\n",
       "             ('13', 13 HH11),\n",
       "             ('14', 14 HH12),\n",
       "             ('15', 15 NH2),\n",
       "             ('16', 16 HH21),\n",
       "             ('17', 17 HH22),\n",
       "             ('18', 18 C),\n",
       "             ('19', 19 O)])"
      ]
     },
     "execution_count": 19,
     "metadata": {},
     "output_type": "execute_result"
    }
   ],
   "source": [
    "red_top.atoms"
   ]
  },
  {
   "cell_type": "code",
   "execution_count": 20,
   "metadata": {},
   "outputs": [],
   "source": [
    "out_file = os.path.join(out_fd, 'new_red_top.top')\n",
    "red_top.write_top(out_file)"
   ]
  },
  {
   "cell_type": "code",
   "execution_count": 21,
   "metadata": {},
   "outputs": [
    {
     "name": "stdout",
     "output_type": "stream",
     "text": [
      "\n"
     ]
    }
   ],
   "source": [
    "os.chdir(out_fd)\n",
    "mtb_file = os.path.join(fd_gromos, '54a8.mtb')\n",
    "mtb = BBdb(mtb_file) # read an mtb file - same as md.parse_mtb(fd_gromos + '54a8.mtb')\n",
    "mtb.write_mtb('mtb1.mtb')\n",
    "\n",
    "mtb.dump('mtb_pickle_dump.p')\n",
    "mtbp = SMArt.incl.DataDumping.load('mtb_pickle_dump.p')\n",
    "mtbp.write_mtb('testp.mtb')\n",
    "\n",
    "ifp_file = os.path.join(fd_gromos, '54a8.ifp')\n",
    "mtb2 = BBdb(mtb_file, ifp_file)\n",
    "mtb2.write_mtb('mtb2.mtb')\n",
    "print(os.popen('diff ' + 'mbt1.mtb ' + 'testp.mtb').read())"
   ]
  },
  {
   "cell_type": "markdown",
   "metadata": {},
   "source": [
    "## GROMACS\n",
    "### parsing / writing"
   ]
  },
  {
   "cell_type": "code",
   "execution_count": 22,
   "metadata": {},
   "outputs": [],
   "source": [
    "ff = parse_ff('./gromos54a7.ff/forcefield.itp', format_type = 'gm') # default for format_type is 'gr'"
   ]
  },
  {
   "cell_type": "code",
   "execution_count": 23,
   "metadata": {},
   "outputs": [
    {
     "data": {
      "text/plain": [
       "[('_FF_GROMOS96', []),\n",
       " ('_FF_GROMOS54A7', []),\n",
       " ('gb_1', ['0.1000', '1.5700e+07']),\n",
       " ('gb_2', ['0.1000', '1.8700e+07']),\n",
       " ('gb_3', ['0.1090', '1.2300e+07']),\n",
       " ('gb_4', ['0.112', '3.7000e+07']),\n",
       " ('gb_5', ['0.1230', '1.6600e+07']),\n",
       " ('gb_6', ['0.1250', '1.3400e+07']),\n",
       " ('gb_7', ['0.1320', '1.2000e+07']),\n",
       " ('gb_8', ['0.1330', '8.8700e+06'])]"
      ]
     },
     "execution_count": 23,
     "metadata": {},
     "output_type": "execute_result"
    }
   ],
   "source": [
    "list(ff.defines.items())[:10]"
   ]
  },
  {
   "cell_type": "code",
   "execution_count": 24,
   "metadata": {},
   "outputs": [
    {
     "data": {
      "text/plain": [
       "['_segments',\n",
       " 'sys_title',\n",
       " 'a_type',\n",
       " 'gm_vdw_normal',\n",
       " 'gm_vdw_pairs',\n",
       " 'gm_constraints',\n",
       " 'gm_bonds',\n",
       " 'gm_angles',\n",
       " 'gm_dihedrals']"
      ]
     },
     "execution_count": 24,
     "metadata": {},
     "output_type": "execute_result"
    }
   ],
   "source": [
    "ff._containers"
   ]
  },
  {
   "cell_type": "code",
   "execution_count": 25,
   "metadata": {},
   "outputs": [
    {
     "data": {
      "text/plain": [
       "[BondType (0.204, 5030000.0), BondType (0.198, 640000.0)]"
      ]
     },
     "execution_count": 25,
     "metadata": {},
     "output_type": "execute_result"
    }
   ],
   "source": [
    "ff.gm_bonds"
   ]
  },
  {
   "cell_type": "code",
   "execution_count": 26,
   "metadata": {},
   "outputs": [],
   "source": [
    "fd_gromacs = os.path.join(smart_fd, 'doc', 'examples', 'some_data', 'gromacs')\n",
    "top_file = os.path.join(fd_gromacs, 'gromos', 'topol.top')"
   ]
  },
  {
   "cell_type": "code",
   "execution_count": 27,
   "metadata": {},
   "outputs": [],
   "source": [
    "top = parse_top(top_file, format_type = 'gm')"
   ]
  },
  {
   "cell_type": "code",
   "execution_count": 28,
   "metadata": {},
   "outputs": [
    {
     "data": {
      "text/plain": [
       "['_segments', 'sys_title', 'ff', 'molecule_types', 'molecules']"
      ]
     },
     "execution_count": 28,
     "metadata": {},
     "output_type": "execute_result"
    }
   ],
   "source": [
    "top._containers"
   ]
  },
  {
   "cell_type": "code",
   "execution_count": 29,
   "metadata": {},
   "outputs": [
    {
     "data": {
      "text/plain": [
       "([Protein_chain_A Protein_chain_A 1], Protein_chain_A Protein_chain_A 1)"
      ]
     },
     "execution_count": 29,
     "metadata": {},
     "output_type": "execute_result"
    }
   ],
   "source": [
    "top.molecules, top.molecules[0]"
   ]
  },
  {
   "cell_type": "code",
   "execution_count": 30,
   "metadata": {},
   "outputs": [
    {
     "data": {
      "text/plain": [
       "OrderedDict([('Protein_chain_A', Protein_chain_A Protein_chain_A),\n",
       "             ('SOL', SOL SOL),\n",
       "             ('CU1', CU1 CU1),\n",
       "             ('CU', CU CU),\n",
       "             ('ZN', ZN ZN),\n",
       "             ('MG', MG MG),\n",
       "             ('CA', CA CA),\n",
       "             ('NA', NA NA),\n",
       "             ('CL', CL CL)])"
      ]
     },
     "execution_count": 30,
     "metadata": {},
     "output_type": "execute_result"
    }
   ],
   "source": [
    "top.molecule_types"
   ]
  },
  {
   "cell_type": "code",
   "execution_count": 31,
   "metadata": {},
   "outputs": [
    {
     "data": {
      "text/plain": [
       "['residues',\n",
       " 'cg',\n",
       " 'bonds',\n",
       " 'vdw_pairs',\n",
       " 'angles',\n",
       " 'dihedrals',\n",
       " 'impropers',\n",
       " 'excl_pair']"
      ]
     },
     "execution_count": 31,
     "metadata": {},
     "output_type": "execute_result"
    }
   ],
   "source": [
    "top.molecule_types['Protein_chain_A']._containers"
   ]
  },
  {
   "cell_type": "code",
   "execution_count": 32,
   "metadata": {},
   "outputs": [],
   "source": [
    "os.chdir(out_fd)"
   ]
  },
  {
   "cell_type": "code",
   "execution_count": 33,
   "metadata": {},
   "outputs": [],
   "source": [
    "ff.write_ff('gmx_ff.itp', from_str = 1, flag_segment_order=1, flag_split_non_bonded = 1, flag_if=1, format_type = 'gm')"
   ]
  },
  {
   "cell_type": "code",
   "execution_count": 34,
   "metadata": {},
   "outputs": [],
   "source": [
    "top.write_top('gm_top.top', format_type = 'gm')"
   ]
  },
  {
   "cell_type": "markdown",
   "metadata": {},
   "source": [
    "## g2g\n",
    "### gromos to gromacs & gromacs to gromos"
   ]
  },
  {
   "cell_type": "code",
   "execution_count": 35,
   "metadata": {},
   "outputs": [],
   "source": [
    "# gromos to gromacs\n",
    "ff_gr.gr2gm()\n",
    "top_gr.gr2gm()\n",
    "# gromacs to gromos\n",
    "ff.gm2gr()\n",
    "top.gm2gr()"
   ]
  },
  {
   "cell_type": "code",
   "execution_count": 36,
   "metadata": {},
   "outputs": [],
   "source": [
    "ff_gr.write_ff('gr2gm_ff.itp', format_type = 'gm')\n",
    "top_gr.write_top('gr2gm_top.top', from_str = 1, flag_segment_order=1, flag_if=1, flag_include = 1, sep_ff2itp='top_ff.itp', flag_defines_first_include = 1, sep_mol2itp=1, format_type='gm')\n",
    "\n",
    "ff.write_ff('gm2gr_ff.ifp', format_type = 'gr')\n",
    "top.write_top('gm2gr_top.top')"
   ]
  },
  {
   "cell_type": "markdown",
   "metadata": {},
   "source": [
    "# some additional features"
   ]
  },
  {
   "cell_type": "code",
   "execution_count": 37,
   "metadata": {},
   "outputs": [
    {
     "data": {
      "text/plain": [
       "([177 CD1, 181 CE1, 185 CZ, 183 CE2, 179 CD2, 176 CG],\n",
       " [377 CD1, 381 CE1, 385 CZ, 383 CE2, 379 CD2, 376 CG],\n",
       " [238 CD2,\n",
       "  242 CE3,\n",
       "  246 CZ3,\n",
       "  248 CH2,\n",
       "  244 CZ2,\n",
       "  241 CE2,\n",
       "  239 NE1,\n",
       "  236 CD1,\n",
       "  235 CG],\n",
       " [219 CD, 218 CG, 217 CB, 216 CA, 215 N],\n",
       " [106 CD1, 110 CE1, 114 CZ, 112 CE2, 108 CD2, 105 CG],\n",
       " [64 CD2, 68 CE2, 70 CZ, 66 CE1, 62 CD1, 61 CG])"
      ]
     },
     "execution_count": 37,
     "metadata": {},
     "output_type": "execute_result"
    }
   ],
   "source": [
    "top.molecule_types['Protein_chain_A'].create_adj_list()\n",
    "top.molecule_types['Protein_chain_A'].find_rings()"
   ]
  },
  {
   "cell_type": "code",
   "execution_count": 38,
   "metadata": {},
   "outputs": [
    {
     "data": {
      "text/plain": [
       "([153 CD1, 157 CE1, 161 CZ, 159 CE2, 155 CD2, 152 CG],)"
      ]
     },
     "execution_count": 38,
     "metadata": {},
     "output_type": "execute_result"
    }
   ],
   "source": [
    "top_gr.find_rings()"
   ]
  },
  {
   "cell_type": "code",
   "execution_count": 39,
   "metadata": {},
   "outputs": [
    {
     "name": "stdout",
     "output_type": "stream",
     "text": [
      "[20 N, 19 O, 7 CG]\n"
     ]
    },
    {
     "data": {
      "text/plain": [
       "[]"
      ]
     },
     "execution_count": 39,
     "metadata": {},
     "output_type": "execute_result"
    }
   ],
   "source": [
    "at = top_gr.atoms['3']\n",
    "print(list(top_gr.BFS_l(at, 3))) # 3rd neighbours\n",
    "top_gr.atoms['3'].p_l # pair list"
   ]
  },
  {
   "cell_type": "code",
   "execution_count": 40,
   "metadata": {},
   "outputs": [
    {
     "name": "stdout",
     "output_type": "stream",
     "text": [
      "[4 H3, 2 H2, 1 H1, 5 CA]\n"
     ]
    }
   ],
   "source": [
    "print(list(top_gr.BFS_l(at, 1))) # first neighbours"
   ]
  },
  {
   "cell_type": "code",
   "execution_count": 41,
   "metadata": {},
   "outputs": [
    {
     "name": "stdout",
     "output_type": "stream",
     "text": [
      "[3 N, 4 H3, 2 H2, 1 H1, 5 CA, 18 C, 6 CB, 20 N, 19 O, 7 CG]\n"
     ]
    }
   ],
   "source": [
    "print(list(top_gr.BFS_d(at, 3))) # all up to 3rd neighbours"
   ]
  },
  {
   "cell_type": "code",
   "execution_count": 42,
   "metadata": {},
   "outputs": [
    {
     "data": {
      "image/png": "[encoded data removed]",
      "text/plain": [
       "<Figure size 432x288 with 1 Axes>"
      ]
     },
     "metadata": {
      "needs_background": "light"
     },
     "output_type": "display_data"
    },
    {
     "data": {
      "text/html": [
       "<div>\n",
       "<style scoped>\n",
       "    .dataframe tbody tr th:only-of-type {\n",
       "        vertical-align: middle;\n",
       "    }\n",
       "\n",
       "    .dataframe tbody tr th {\n",
       "        vertical-align: top;\n",
       "    }\n",
       "\n",
       "    .dataframe thead th {\n",
       "        text-align: right;\n",
       "    }\n",
       "</style>\n",
       "<table border=\"1\" class=\"dataframe\">\n",
       "  <thead>\n",
       "    <tr style=\"text-align: right;\">\n",
       "      <th></th>\n",
       "      <th>x</th>\n",
       "      <th>y</th>\n",
       "    </tr>\n",
       "    <tr>\n",
       "      <th>idx</th>\n",
       "      <th></th>\n",
       "      <th></th>\n",
       "    </tr>\n",
       "  </thead>\n",
       "  <tbody>\n",
       "    <tr>\n",
       "      <td>3 N</td>\n",
       "      <td>-3.880086</td>\n",
       "      <td>-4.169818</td>\n",
       "    </tr>\n",
       "    <tr>\n",
       "      <td>4 H3</td>\n",
       "      <td>-3.587112</td>\n",
       "      <td>-5.125960</td>\n",
       "    </tr>\n",
       "    <tr>\n",
       "      <td>2 H2</td>\n",
       "      <td>-3.888288</td>\n",
       "      <td>-3.169837</td>\n",
       "    </tr>\n",
       "    <tr>\n",
       "      <td>1 H1</td>\n",
       "      <td>-2.888298</td>\n",
       "      <td>-4.041687</td>\n",
       "    </tr>\n",
       "    <tr>\n",
       "      <td>5 CA</td>\n",
       "      <td>-4.867445</td>\n",
       "      <td>-4.328521</td>\n",
       "    </tr>\n",
       "    <tr>\n",
       "      <td>18 C</td>\n",
       "      <td>-5.625325</td>\n",
       "      <td>-3.676091</td>\n",
       "    </tr>\n",
       "    <tr>\n",
       "      <td>6 CB</td>\n",
       "      <td>-5.153574</td>\n",
       "      <td>-5.286777</td>\n",
       "    </tr>\n",
       "    <tr>\n",
       "      <td>20 N</td>\n",
       "      <td>-5.589406</td>\n",
       "      <td>-2.676734</td>\n",
       "    </tr>\n",
       "    <tr>\n",
       "      <td>19 O</td>\n",
       "      <td>-6.583653</td>\n",
       "      <td>-3.961751</td>\n",
       "    </tr>\n",
       "    <tr>\n",
       "      <td>7 CG</td>\n",
       "      <td>-5.987473</td>\n",
       "      <td>-5.838847</td>\n",
       "    </tr>\n",
       "  </tbody>\n",
       "</table>\n",
       "</div>"
      ],
      "text/plain": [
       "             x         y\n",
       "idx                     \n",
       "3 N  -3.880086 -4.169818\n",
       "4 H3 -3.587112 -5.125960\n",
       "2 H2 -3.888288 -3.169837\n",
       "1 H1 -2.888298 -4.041687\n",
       "5 CA -4.867445 -4.328521\n",
       "18 C -5.625325 -3.676091\n",
       "6 CB -5.153574 -5.286777\n",
       "20 N -5.589406 -2.676734\n",
       "19 O -6.583653 -3.961751\n",
       "7 CG -5.987473 -5.838847"
      ]
     },
     "execution_count": 42,
     "metadata": {},
     "output_type": "execute_result"
    }
   ],
   "source": [
    "G = top_gr.sub_graph(list(top_gr.BFS_d(at, 3)))\n",
    "G.get_2D_repr()"
   ]
  },
  {
   "cell_type": "code",
   "execution_count": 43,
   "metadata": {},
   "outputs": [],
   "source": [
    "#\"\"\"\n",
    "# remove all backed-up files\n",
    "import glob\n",
    "for f_path in glob.glob('#bck*'):\n",
    "    os.remove(f_path)\n",
    "#\"\"\""
   ]
  },
  {
   "cell_type": "code",
   "execution_count": null,
   "metadata": {},
   "outputs": [],
   "source": []
  }
 ],
 "metadata": {
  "kernelspec": {
   "display_name": "Python 3",
   "language": "python",
   "name": "python3"
  },
  "language_info": {
   "codemirror_mode": {
    "name": "ipython",
    "version": 3
   },
   "file_extension": ".py",
   "mimetype": "text/x-python",
   "name": "python",
   "nbconvert_exporter": "python",
   "pygments_lexer": "ipython3",
   "version": "3.7.4"
  }
 },
 "nbformat": 4,
 "nbformat_minor": 4
}
